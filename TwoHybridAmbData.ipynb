{
 "metadata": {
  "language_info": {
   "codemirror_mode": {
    "name": "ipython",
    "version": 3
   },
   "file_extension": ".py",
   "mimetype": "text/x-python",
   "name": "python",
   "nbconvert_exporter": "python",
   "pygments_lexer": "ipython3",
   "version": "3.7.9-final"
  },
  "orig_nbformat": 2,
  "kernelspec": {
   "name": "python3",
   "display_name": "Python 3"
  }
 },
 "nbformat": 4,
 "nbformat_minor": 2,
 "cells": [
  {
   "source": [
    "#### TwoHybridAmbData.ipynb In the cells below we show;\n",
    "### Dwave anneal results for grids of $1*4$, $5*5$, and $7*7$"
   ],
   "cell_type": "markdown",
   "metadata": {}
  },
  {
   "source": [
    "## Solutions from a $1*4$ grid for dwave to compare with gate approach.\n",
    "|QubitsGrid|         Energy |    Distance|$'Errors'$| Constraintmet|      Method|  $ ConstraintMultiplier^1$|num_reads|   time secs |$Repeats^2$|\n",
    "|:----------:|:------------:|:----------:|:----------:|:----------:|:----------:|:----------:|:----------:|:----------:|:----------:| \n",
    "|1  * 4|        -538.0|              2|                   0|   y  |   simAnneal|            10.0|             90|              0| 5 (5.6%)\n",
    "|1  * 4|        -538.0|              2|            0|       y|      simAnneal|            10.0|           9000|              1|687 (7.63%)\n",
    "|1  * 4|        -538.0|              2|            0|       y|       DWAVEQPU|            10.0|           9000|             17|119(1.32%)\n",
    "\n",
    "1 ConstraintMultiplier/max_distance =  10.0\n",
    "2 The number of times the lowest energy was found in all of the num_reads (the percentage probability)"
   ],
   "cell_type": "markdown",
   "metadata": {}
  },
  {
   "cell_type": "code",
   "execution_count": 21,
   "metadata": {},
   "outputs": [
    {
     "output_type": "stream",
     "name": "stdout",
     "text": [
      "38 0.95\nIf the probability of an anneal finding at least one ground state is 0.0763 , then after  38  runs there is a 95.0 % chance that at least one of them is a ground state\n"
     ]
    }
   ],
   "source": [
    "# How many num_reads for 95% certainty?\n",
    "import numpy as np\n",
    "p = 0.0763\n",
    "#p = 0.0132\n",
    "num_reads = 25\n",
    "prob_gnd_state = 1 - (1-p)**num_reads\n",
    "num_95_certain = np.log(1-0.95)/np.log(1-p)\n",
    "prob_gnd_state = 1 - (1-p)**num_95_certain\n",
    "print( int(num_95_certain+0.5), prob_gnd_state)\n",
    "print('If the probability of an anneal finding a ground state is',p,', then after ',int(num_95_certain+0.5), ' runs there is a' ,  100*prob_gnd_state, '% chance that at least one of them is a ground state')"
   ]
  },
  {
   "source": [
    "\n",
    "## Optimal solution of a $5*5$ grid when A0 and A1 are fixed on the same diagonal\n",
    "For A0 at 'A0' and A1 at 'A1', the optimal allocation of destinations is shown below as '1' for A0, '0' for A1, and either for 'x'\n",
    "\n",
    "A0_fix = 6 ie (1,1) A1_fix = 18  ie (3,3)\n",
    "\n",
    "$\\begin{bmatrix} \n",
    "1 & 1 & 1 & 1 & x  \\\\ \n",
    "1 & A0 & 1 & x & 0  \\\\ \n",
    "1 & 1 & x & 0 & 0  \\\\ \n",
    "1 & x & 0 & A1 & 0  \\\\ \n",
    "x & 0 & 0 & 0 & 0  \\\\ \n",
    "\\end{bmatrix}$ \n",
    "\n",
    "Energy of ground state = 30+20+20 = 70\n"
   ],
   "cell_type": "markdown",
   "metadata": {}
  },
  {
   "source": [
    "## Optimal solution when A0 and A1 are on the same column\n",
    "\n",
    "$\\begin{bmatrix} \n",
    "0 & 0 & 0 & 0 & 0  \\\\ \n",
    "0 & 0 & A0 & 0 & 0  \\\\  \n",
    "x & x & x & x & x  \\\\ \n",
    "1 & 1 & A1 & 1 & 1  \\\\\n",
    "1 & 1 & 1 & 1 & 1  \\\\ \n",
    "\\end{bmatrix}$ \n",
    "\n",
    "energy = $15 + 2 * 25 = 65$"
   ],
   "cell_type": "markdown",
   "metadata": {}
  },
  {
   "source": [
    "### Results for a $5*5$ grid when A0 and A1 are fixed on the same DIAGONAL\n",
    "\n",
    "As an estimate of QPU time for a hybrid soltution we have set  \n",
    "### A0_fix = 6 grid ref (1,1) A1_fix = 18   grid ref (3,3)\n",
    "USing the symmetry of the 5*5 problem,  the best Distance of solution = 70 when A0 and A1 are on the same diagonal, by inspection\n",
    "\n",
    "The table below shows how close the *DWAVEQPU* came to this for a few different 'ConstraintMultiplier' values\n",
    "\n",
    "|QubitsGrid|         Energy |    Distance|$'Errors'^1$| Constraintmet|      Method|   ConstraintMultiplier|num_reads|   time secs |$Repeats^2$|\n",
    "|:----------:|:------------:|:----------:|:----------:|:----------:|:----------:|:----------:|:----------:|:----------:|:----------:| \n",
    "| 5*5 |       -8562.0       |     78     |1            |    y       |      DWAVEQPU|       max_distance *10|     1000|              324ms|\n",
    "| 5*5  |      -134910.0     |  90           |5           |?|          DWAVEQPU|       sum_distance  |               1000 |             324ms|\n",
    "|5*5 |       -134854.0|   146         |             |?|            DWAVEQPU |      sum_distance|                  20 |           16ms|\n",
    "| 5*5 |        -8562.0 |    78          |1|           |                DWAVEQPU |       max_distance *10  |            9000|\n",
    "| 5*5  |       -8570.0  |   70          |(grnd state) |y     |  DWAVEQPU |       max_distance *10 |            10000  ie repeat and below|\n",
    "|5  * 5|       -8558.0|             82  |            2|       y|       DWAVEQPU|            10.0|           9000|             12cpu, prob0.3qpu|\n",
    "|5  * 5|       -8558.0|             82|              3|     y|       DW2000Q_6|            10.0|           9000|              0.9qpu| \n",
    "|5  * 5|       -8566.0|             74|              1|     y|       DW2000Q_6|            10.0|           9000|              0.9|\n",
    "\n",
    "1 Defined as the number of qubits in the lowest energy solution with a non optimal value  \n",
    "2 The number of times the lowest energy was found in all of the num_reads\n",
    "\n",
    "### Similar to the Simulated annealer.\n",
    "|QubitsGrid|         Energy |    Distance|'Qubits not optimal'| Constraintmet|      Method|   ConstraintMultiplier|num_reads|     time secs |\n",
    "|:----------:|:------------:|:----------:|:----------:|:----------:|:----------:|:----------:|:----------:|:----------:| \n",
    "|5*5   |      -8562.0 |    78           |    1        |?       | simAnneal |      max_distance *10    |          9000|\n",
    "|5  * 5|       -8566.0|             74|       1     |            y|      simAnneal|            10.0|           9000|              3|\n",
    "|5  * 5|       -8566.0|             74|     1       | y|     simAnneal|            10.0|         100000|             40|\n",
    "|5  * 5|       -8558.0|             82|      2       |     y|      simAnneal|            10.0|           9000|              3|\n",
    "\n"
   ],
   "cell_type": "markdown",
   "metadata": {}
  },
  {
   "source": [
    "### Results for a $5*5$ grid when A0 and A1 are fixed on the same COLUMN\n",
    "#### A0_fix = 7 grid ref (2,3) A1_fix = 17   grid ref (4,3)\n",
    "USing the symmetry of the 5*5 problem,  the best Distance of solution = 65 when A0 and A1 are on the same column, by inspection\n",
    "\n",
    "|QubitsGrid|         Energy |    Distance|$'Errors'^1$| Constraintmet|   Method|   ConstraintMultiplier|num_reads|   time secs|$Repeats^2$|\n",
    "|:----------:|:------------:|:----------:|:----------:|:----------:|:----------:|:----------:|:----------:|:----------:|:----------:| \n",
    "| 5*5  |       -8575.0  |   65          | 0         |y     |  Symmetry |       max_distance *10 |            1|\n",
    "|5  * 5|       -8575.0|             65|                   0|y|      simAnneal|            10.0|          50000|             20|1|\n",
    "1 Defined as the number of qubits in the lowest energy solution with a non optimal value  \n",
    "2 The number of times the lowest energy was found in all of the num_reads\n"
   ],
   "cell_type": "markdown",
   "metadata": {}
  },
  {
   "source": [
    "### Start positions, A0 and A1, NOT FIXED\n",
    "\n",
    "|QubitsGrid|         Energy |    Distance|$'Errors'^1$| Constraintmet|      Method| ConstraintMultiplier|num_reads|     time|$Repeats^2$|\n",
    "|:----------:|:------------:|:----------:|:----------:|:----------:|:----------:|:----------:|:----------:|:----------:|     \n",
    "| 5*5  |       -8575.0  |   65          | 0         |y     |  Symmetry |       max_distance *10 |            1|\n",
    "|5  * 5|       -8559.0|             81|   $start^3$         |       y|      simAnneal|            10.0|          30,000|             64|2|\n",
    "|5  * 5|       -8562.0|             78|    $start^3$            |   y|      simAnneal|            10.0|         180,000|            381|1|\n",
    "|5  * 5|       -8570.0|             70|       3           |y|      simAnneal|            10.0|        1,000,000|           2125|1     |\n",
    "|5  * 5|       -8567.0|             73|      2   | y|      simAnneal|            10.0|        1,000,000|           2048|1|\n",
    "1 Defined as the number of qubits in the lowest energy solution with a non optimal value  \n",
    "2 The number of times the lowest energy was found in all of the num_reads  \n",
    "3 A0 was not located optimally.\n",
    "\n",
    "|QubitsGrid|         Energy |    Distance|$'Errors'^1$| Constraintmet|      Method| ConstraintMultiplier|num_reads|     time|$Repeats^2$|\n",
    "|:----------:|:------------:|:----------:|:----------:|:----------:|:----------:|:----------:|:----------:|:----------:|     \n",
    "|5  * 5|       -7600.0|         n/a    |n|                   1|       DWAVEQPU|            10.0|          10000|             1.2ofQPU|\n",
    "|5  * 5|       -7040.0|          n/a|   n|                   1|       DWAVEQPU|            10.0|           9000|             1.5ofQPU|\n",
    "\n",
    "\n",
    "\n",
    "\n"
   ],
   "cell_type": "markdown",
   "metadata": {}
  },
  {
   "source": [
    "#### What size of problem can be embedded with each topology type?\n",
    "|QubitsGrid  |Qubits in problem|$Edges in problem^1$|topology type|Embedded?|\n",
    "|:----------:|:----------------:|:----------:|:----------:|:----------:|\n",
    "|$5*5$       | $5*5*4$ = 100    |$  1728 (= 24*24 *3 )$|'Chimera'|yes|\n",
    "|$7*7$       | $7*7*4 = 196$    |$  7203 (= 49*49 *3 )$|'Chimera'|no|\n",
    "|$9*9$       | $9*9*4 = 324$    |$  19,200 (= 80*80 *3 )$|'Chimera'|no|\n",
    "|$7*7$       | $7*7*4 = 196$    |$  7203 (= 49*49 *3 )$|'pegasus'|yes|\n",
    "\n",
    "1 This is a lower estimate based only on the edges required for the distance component of energy."
   ],
   "cell_type": "markdown",
   "metadata": {}
  },
  {
   "source": [
    "### Example of not quite optimal solution of a $5*5$ grid\n",
    "\n",
    "|QubitsGrid|         Energy |    Distance|$'Errors'^1$| Constraintmet|      Method| ConstraintMultiplier|num_reads|     time|$Repeats^2$|\n",
    "|:----------:|:------------:|:----------:|:----------:|:----------:|:----------:|:----------:|:----------:|:----------:|     \n",
    "|5  * 5|       -8567.0|             73|      2   | y|      simAnneal|            10.0|        1000000|           2048|1|\n",
    "\n",
    "Lowest energy states found by the simulated annealing method.\n",
    "\n",
    "$\\begin{bmatrix} \n",
    "0 & 0 & 0 & 0 & 0  \\\\ \n",
    "1^2 & 1^1 & A0 & 0 & 0  \\\\  \n",
    "0 & 0 & 0 & 1 & 1  \\\\ \n",
    "1 & 1 & A1 & 1 & 1  \\\\\n",
    "1 & 1 & 1 & 1 & 1  \\\\ \n",
    "\\end{bmatrix}$ \n"
   ],
   "cell_type": "markdown",
   "metadata": {}
  },
  {
   "source": [
    "### Results for a $7*7$ grid when A0 and A1 are fixed on the same DIAGONAL\n",
    "\n",
    "A0_fix = 16 A1_fix = 32      for 7*7 is the optimal solution with Energy 266\n",
    "\n",
    "|QubitsGrid|         Energy|    Distance| 'Qubits not optimal'|Constraintmet|      Method|      ConstraintMultiplier|   num_reads|     time secs|\n",
    "|:----------:|:----------:|:----------:|:----------:|:----------:|:----------:|:----------:|:----------:| \n",
    "|7*7         |-35491.0|   509 |   many   |  yes |        DWAVEQPU |      max_distance *10 |             20|            15ms|    \n",
    "|7*7  |      -36386.0|    334           |8          |?|         DWAVEQPU|        max_distance *10 |            9000 | 2.16 sec qpu time|\n",
    " | 7*7  |       -36386.0|    322        |7              |?|         DWAVEQPU|       max_distance *10 |             9000  |2.15 sec qpu time|\n",
    "|  7*7 |     -18026.0|       $334^2$        |?          |y|        DWAVEQPU|             5.0   |        9000     |         |\n",
    " | 7*7  |    -18014.0  |          346   |?          |y|           DWAVEQPU|             5.0    |       9000  |2.15 sec qpu time      \n",
    "\n",
    "|QubitsGrid|         Energy|    Distance| 'Qubits not optimal'|Constraintmet|      Method|      ConstraintMultiplier|         num_reads|     time|\n",
    "|:----------:|:----------:|:----------:|:----------:|:----------:|:----------:|:----------:|:----------:|\n",
    "|7  * 7|      $-36414.0^1$|            306|   6       |y    |      simAnneal|            10.0|         500000|            353|\n",
    " |9*9  |                  1858  |       yes |       DWAVEQPU|       sum_distance|              20|            16ms|\n",
    "\n",
    " 1 This energy was found only once in the 500,000 runs  \n",
    " 2 This energy was found only once in 9000 runs"
   ],
   "cell_type": "markdown",
   "metadata": {}
  },
  {
   "source": [
    "### A0 and A1 not fixed, only possible with pegasus topology\n",
    "\n",
    "|QubitsGrid|         Energy|    Distance| 'Qubits not optimal'|Constraintmet|      Method|      ConstraintMultiplier|   num_reads|     time secs|\n",
    "|:----------:|:----------:|:----------:|:----------:|:----------:|:----------:|:----------:|:----------:| \n",
    "|7  * 7|      -28080.0|             n/a| many|                   n|       DWAVEQPUpegasus|            10.0|           9000|            385|1520ms qpu"
   ],
   "cell_type": "markdown",
   "metadata": {}
  },
  {
   "source": [
    "\n",
    "### Optimum solution has a distance component of energy = 35 +79 + 109 = 223\n",
    "#### A0_sol = 17 grid ref , A1_sol = 38 grid ref (5,3)\n",
    "\n",
    "= $\\begin{bmatrix} \n",
    "0 & 0 & 0 & 0 & 0 & 0 & 0  \\\\\n",
    "0 & 0 & 0 & A0(2,3) & 0 & 0 & 0  \\\\\n",
    "0 & 0 & 0 & 0 & 0 & 0 & 0  \\\\\n",
    "0 & 0 & 0 & 0 & 0 & 0 & 0  \\\\\n",
    "1 & 1 & 1 & 1 & 1 & 1 & 1  \\\\\n",
    "1 & 1 & 1 & A1(5,3) & 1 & 1 & 1  \\\\\n",
    "1 & 1 & 1 & 1 & 1 & 1 & 1  \\\\\n",
    "\\end{bmatrix}$\n",
    "\n",
    "#### A0_sol = 17 grid ref (2,2), A1_sol = 38 grid ref (4,4)\n",
    "Distance component of energy = 35 + 109 * 2 = 253  \n",
    "\n",
    "$\\begin{bmatrix} \n",
    "1 & 1 & 1 & 1 & 1 & 1 & x  \\\\\n",
    "1 & 1 & 1 & 1 & 1 & x & 1  \\\\\n",
    "1 & 1 & A0(2,2) & 0 & x & 0 & 1 \\\\\n",
    "1 & 1 & 1  & x & 0 & 0 & 0  \\\\\n",
    "1 & 1 & x & 0 & A1(4,4) & 0 & 0  \\\\\n",
    "1 & x & 0 & 0 & 0 & 0 & 0  \\\\\n",
    "x & 0 & 0 & 0 & 0 & 0 & 0  \\\\\n",
    "\\end{bmatrix}$"
   ],
   "cell_type": "markdown",
   "metadata": {}
  },
  {
   "source": [],
   "cell_type": "code",
   "metadata": {},
   "execution_count": null,
   "outputs": []
  }
 ]
}