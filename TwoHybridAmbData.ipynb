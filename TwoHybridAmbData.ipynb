{
 "metadata": {
  "language_info": {
   "codemirror_mode": {
    "name": "ipython",
    "version": 3
   },
   "file_extension": ".py",
   "mimetype": "text/x-python",
   "name": "python",
   "nbconvert_exporter": "python",
   "pygments_lexer": "ipython3",
   "version": "3.8.5-final"
  },
  "orig_nbformat": 2,
  "kernelspec": {
   "name": "python3",
   "display_name": "Python 3"
  }
 },
 "nbformat": 4,
 "nbformat_minor": 2,
 "cells": [
  {
   "source": [
    "\n",
    "### $Distance^2$ for Ambulance at position marked '0' if it services every location in a 5*5 grid\n",
    "M(5*5) = $\\begin{bmatrix} \n",
    "2 & 1 & 2 & 5 & 10  \\\\ \n",
    "1 & 0 & 1 & 4 & 9  \\\\ \n",
    "2 & 1 & 2 & 5 & 10  \\\\ \n",
    "5 & 4 & 5 & 8 & 13  \\\\ \n",
    "10& 9 & 10 &13 & 18  \\\\ \n",
    "\\end{bmatrix}$ \n",
    "\n",
    "\n",
    "The diagonal adds up to 30, and the Distances above the diagonal to 20\n",
    "For A0 at 'A0' and A1 at 'A0', the optimal allocation of destinations is '1' for A0, '0' for A1, and either for 'x'\n",
    "\n",
    "A0_fix = 6 A1_fix = 18  \n",
    "\n",
    "$\\begin{bmatrix} \n",
    "1 & 1 & 1 & 1 & x  \\\\ \n",
    "1 & A0 & 1 & x & 0  \\\\ \n",
    "1 & 1 & x & 0 & 0  \\\\ \n",
    "1 & x & 0 & A1 & 0  \\\\ \n",
    "x & 0 & 0 & 0 & 0  \\\\ \n",
    "\\end{bmatrix}$ \n",
    "\n",
    "This will have energy of 30 which ever is allocated the diagonal, another 20 for A0 allocated to all above the diagonal, and a final 20 for all those allocated to A1 below the diagonal. Energy of ground state = 30+20+20 = 70\n",
    "\n",
    "If we had choose the Distance to vary linearly over the grid the number of ground states would grow, from 4, and the problem become less challenging. In the real world the distance between possible starting positions for each Ambulance would be an arbitary function. If we defined our problem in this way it would not be possible to see the solution by inspection."
   ],
   "cell_type": "markdown",
   "metadata": {}
  },
  {
   "source": [
    "TwoHybridAmbData.ipynb\n",
    "\n",
    "As an estimate of QPU time for a hybrid soltution we have set  \n",
    "### A0_fix = 6 A1_fix = 18   \n",
    "USing the symmetry of the 5*5 problem,  best Distance of solution = 70 , by inspection\n",
    "\n",
    "The table below shows how close the QPU came to this for a few different 'ConstraintMultiplier' values\n",
    "\n",
    "|QubitsGrid|         Energy |    Distance|qubits not optimal| Constraintmet|      Method|   ConstraintMultiplier|num_reads|     time secs |\n",
    "|:----------:|:------------:|:----------:|:----------:|:----------:|:----------:|:----------:|:----------:|:----------:| \n",
    "| 5*5 |       -8562.0     |     78     |?|    y       |      DWAVEQPU|       max_distance *10|              1000|              324ms|\n",
    "| 5*5  |      -134910.0 |  90           |5           |?|          DWAVEQPU|       sum_distance  |               1000 |             324ms|\n",
    "|5*5 |       -134854.0|   146         |             |?|            DWAVEQPU |      sum_distance|                  20 |           16ms|\n",
    "| 5*5 |        -8562.0 |    78          |?|           |                DWAVEQPU |       max_distance *10  |            9000|\n",
    "| 5*5  |       -8570.0  |   70          |(grnd state) |?     |  DWAVEQPU |       max_distance *10 |            10000  ie repeat and below|\n",
    "|5  * 5|       -8558.0|             82  |            2|       y|       DWAVEQPU|            10.0|           9000|             12cpu, prob0.3qpu|\n",
    "|5  * 5|       -8558.0|             82|              3|     y|       DWAVEQPU|            10.0|           9000|              0.9qpu| \n",
    "|5  * 5|       -8566.0|             74|              1|     y|       DWAVEQPU|            10.0|           9000|              0.9|\n",
    "\n",
    "|QubitsGrid|         Energy |    Distance|qubits not optimal| Constraintmet|      Method|   ConstraintMultiplier|num_reads|     time secs |\n",
    "|:----------:|:------------:|:----------:|:----------:|:----------:|:----------:|:----------:|:----------:|:----------:| \n",
    "|5*5   |      -8562.0 |    78           |    1        |?       | simAnneal |      max_distance *10    |          9000|\n",
    "|5  * 5|       -8566.0|             74|       1     |            y|      simAnneal|            10.0|           9000|              3|\n",
    "|5  * 5|       -8566.0|             74|     1       | y|     simAnneal|            10.0|         100000|             40|\n",
    "|5  * 5|       -8558.0|             82|      2       |     y|      simAnneal|            10.0|           9000|              3|\n",
    "\n"
   ],
   "cell_type": "markdown",
   "metadata": {}
  },
  {
   "source": [
    "a0_fix = 16, M is the maxtrix of $distance^2$ from position 16 (or grid ref (2,2) )\n",
    "\n",
    "M0(7*7) = $\\begin{bmatrix} \n",
    "8 &5 & 4 & 5 & 8 & 13 & 20 \\\\ \n",
    "5 & 2 & 1 & 2 & 5 & 10& 17   \\\\ \n",
    "4 & 1 & A0 & 1 & 4 & 9 & 16 \\\\ \n",
    "5 & 2 & 1 & 2 & 5 & 10 & 17 \\\\ \n",
    "8 &5 & 4 & 5 & 8 & 13  & 20\\\\ \n",
    "13&10& 9 & 10 &13 & 18 & 25 \\\\ \n",
    "20&17& 16 & 17 &20 & 25& 36  \\\\ \n",
    "\\end{bmatrix}$ \n",
    "Trace( M0(7*7) ) = 70, $\\sum_{i>j}{ m_{ij}}$ = 98 so with A1 symetrically opposite A0 the energy is $70 + 2*98 = 264$\n",
    "\n",
    "M1(7*7) = $\\begin{bmatrix} \n",
    " 2 & 1 & 2 & 5 & 10  & 17 & 26\\\\ \n",
    " 1 & A1 & 1 & 4 & 9  & 16 & \\\\ \n",
    " 2 & 1 & 2 & 5 & 10  &  & \\\\ \n",
    " 5 & 4 & 5 & 8 &   &  & \\\\ \n",
    " 10& 9 & 10 & &   &  \\\\ \n",
    " 17& 16 &  &  &  &   \\\\ \n",
    " 26& &&&& \\\\\n",
    "\\end{bmatrix}$ \n",
    "Trace(M1) = 92, $\\sum_{i>j}{ m1_{ij}}$ = 112 \n",
    "\n",
    "This asymetric solution has energy Trace( M0(7*7) ) = 70, plus $\\sum_{i>j}{ m1_{ij}}$ = 112 ,plus $\\sum_{i>j}{ m_{ij}}$ = 98 \n",
    "\n",
    "A total of 280"
   ],
   "cell_type": "markdown",
   "metadata": {}
  },
  {
   "source": [
    "A0_fix = 16 A1_fix = 32      for 7*7 is the optimal solution with Energy 264\n",
    "\n",
    "|QubitsGrid|         Energy|    Distance| qubits not optimal|Constraintmet|      Method|      ConstraintMultiplier|         num_reads|     time|\n",
    "|:----------:|:----------:|:----------:|:----------:|:----------:|:----------:|:----------:|:----------:|     \n",
    "|7*7  |      -36386.0|    334           |8          |?|         DWAVEQPU|        max_distance *10 |            9000 | 2.16 sec qpu time|\n",
    " | 7*7  |       -36386.0|    322        |7              |?|         DWAVEQPU|       max_distance *10 |             9000  |2.15 sec qpu time|\n",
    "|  7*7 |     -18026.0|       334        |?          |y|        DWAVEQPU|             5.0   |        9000     |         1occurance|\n",
    " | 7*7  |    -18014.0  |          346   |?          |y|           DWAVEQPU|             5.0    |       9000  |2.15 sec qpu time      \n",
    " \n",
    " |9*9  |                  1858  |       yes |       DWAVEQPU|       sum_distance|              20|            16ms|"
   ],
   "cell_type": "markdown",
   "metadata": {}
  },
  {
   "cell_type": "code",
   "execution_count": 3,
   "metadata": {},
   "outputs": [
    {
     "output_type": "error",
     "ename": "SyntaxError",
     "evalue": "invalid syntax (<ipython-input-3-7200bbcdc9c7>, line 1)",
     "traceback": [
      "\u001b[1;36m  File \u001b[1;32m\"<ipython-input-3-7200bbcdc9c7>\"\u001b[1;36m, line \u001b[1;32m1\u001b[0m\n\u001b[1;33m    A0 and A1 not fixed 9.189sec\u001b[0m\n\u001b[1;37m                  ^\u001b[0m\n\u001b[1;31mSyntaxError\u001b[0m\u001b[1;31m:\u001b[0m invalid syntax\n"
     ]
    }
   ],
   "source": [
    "A0 and A1 not fixed 9.189sec  \n",
    "\n",
    "|QubitsGrid|         Energy |    Distance| Constraintmet|      Method|      ConstraintMultiplier|         num_reads|     time|\n",
    "|:----------:|:------------:|:----------:|:----------:|:----------:|:----------:|:----------:|:----------:|     \n",
    "\n",
    "5*5         embedding found(5*5*4=100, 1875 Edges)     DWAVEQPU       sum_distance       20            18\n",
    "7*7         no embedding found (7*7*4 = 196) 7203 (= 49*49 *3 ) edge weightings\n",
    "9*9         no embedding found (9*9*4 = 324)    DWAVEQPU       sum_distance              20            18\n"
   ]
  }
 ]
}