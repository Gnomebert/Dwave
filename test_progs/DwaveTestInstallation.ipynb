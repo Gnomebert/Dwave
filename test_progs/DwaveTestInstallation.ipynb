{
 "nbformat": 4,
 "nbformat_minor": 2,
 "metadata": {
  "language_info": {
   "name": "python",
   "codemirror_mode": {
    "name": "ipython",
    "version": 3
   },
   "version": "3.9.5"
  },
  "orig_nbformat": 2,
  "file_extension": ".py",
  "mimetype": "text/x-python",
  "name": "python",
  "npconvert_exporter": "python",
  "pygments_lexer": "ipython3",
  "version": 3,
  "kernelspec": {
   "name": "python395jvsc74a57bd0ba6b3f1e42c1fb04f2565d2d4de4bd058c104c96990c01b30a0b3ea4bafbd5a9",
   "display_name": "Python 3.9.5 64-bit ('dwave_J2021': conda)"
  },
  "metadata": {
   "interpreter": {
    "hash": "ba6b3f1e42c1fb04f2565d2d4de4bd058c104c96990c01b30a0b3ea4bafbd5a9"
   }
  }
 },
 "cells": [
  {
   "cell_type": "code",
   "execution_count": 2,
   "metadata": {},
   "outputs": [
    {
     "output_type": "error",
     "ename": "ModuleNotFoundError",
     "evalue": "No module named 'testci'",
     "traceback": [
      "\u001b[1;31m---------------------------------------------------------------------------\u001b[0m",
      "\u001b[1;31mModuleNotFoundError\u001b[0m                       Traceback (most recent call last)",
      "\u001b[1;32m<ipython-input-2-d1d76cbe915b>\u001b[0m in \u001b[0;36m<module>\u001b[1;34m\u001b[0m\n\u001b[0;32m      1\u001b[0m \u001b[1;31m#import testci-1.0.0-43\u001b[0m\u001b[1;33m\u001b[0m\u001b[1;33m\u001b[0m\u001b[1;33m\u001b[0m\u001b[0m\n\u001b[1;32m----> 2\u001b[1;33m \u001b[1;32mimport\u001b[0m \u001b[0mtestci\u001b[0m\u001b[1;33m\u001b[0m\u001b[1;33m\u001b[0m\u001b[0m\n\u001b[0m",
      "\u001b[1;31mModuleNotFoundError\u001b[0m: No module named 'testci'"
     ]
    }
   ],
   "source": [
    "#import testci-1.0.0-43\n",
    "import testci"
   ]
  },
  {
   "cell_type": "code",
   "execution_count": 3,
   "metadata": {},
   "outputs": [
    {
     "output_type": "stream",
     "name": "stdout",
     "text": [
      "hi win32 This cell works with DWAVE_env but not dwave_lone_env, and from 15.7.21 base:conda\n",
      "BinaryQuadraticModel({1: 2.0, 2: 1.0, 3: 6.0}, {(1, 2): -4.0, (2, 3): -4.0}, -1.0, 'BINARY')\n",
      "{1: 2.0, 2: 1.0, 3: 6.0}\n",
      "python 3.9.5 numpy 1.20.2\n"
     ]
    }
   ],
   "source": [
    "print('hi',sys.platform, 'This cell works with DWAVE_env but not dwave_lone_env, and from 15.7.21 base:conda')\n",
    "import dwaveoceansdk\n",
    "import  dimod \n",
    "import numpy as np\n",
    "bqm = dimod.BinaryQuadraticModel({ 'a': 2.0, 'b': 1.0, 'c': 6.0},\n",
    "                                {\n",
    "                                ('b', 'a'): 2.0, ('c', 'a'): -4.0, ('c', 'b'): -4.0},\n",
    "                                -1.0, 'BINARY')\n",
    "bqm = dimod.BinaryQuadraticModel({ 1: 2.0, 2: 1.0, 3: 6.0},\n",
    "                                {\n",
    "                                (2, 1): 2.0, (2, 1): -4.0, (3, 2): -4.0},\n",
    "                                -1.0, 'BINARY')                            \n",
    "print( bqm)   \n",
    "print(bqm.linear    )\n",
    "from platform import python_version\n",
    "\n",
    "print('python', python_version(),'numpy', np.__version__)"
   ]
  },
  {
   "cell_type": "code",
   "execution_count": 4,
   "metadata": {},
   "outputs": [
    {
     "output_type": "execute_result",
     "data": {
      "text/plain": [
       "1.6327465612682615"
      ]
     },
     "metadata": {},
     "execution_count": 4
    }
   ],
   "source": [
    "# fails with base:conda\n",
    "from dwave.embedding.chain_strength import uniform_torque_compensation\n",
    "chain_strength_value = uniform_torque_compensation(bqm.spin, embedding=None)\n",
    "chain_strength_value"
   ]
  },
  {
   "cell_type": "code",
   "execution_count": 8,
   "metadata": {},
   "outputs": [],
   "source": [
    "import matplotlib"
   ]
  },
  {
   "cell_type": "code",
   "execution_count": 5,
   "metadata": {},
   "outputs": [],
   "source": [
    "import neal\n",
    "solver = neal.SimulatedAnnealingSampler()  # fails to load the DLL of SimulatedAnnealing.pyd, worked after update Anaconda"
   ]
  },
  {
   "cell_type": "code",
   "execution_count": 9,
   "metadata": {},
   "outputs": [
    {
     "output_type": "stream",
     "name": "stdout",
     "text": [
      "{(2, 1): 2.0, (2, 0): -4.0, (2, 2): -4.0} -6.0\n0  == 0\n"
     ]
    }
   ],
   "source": [
    "from pyaqc.RCModules.TwoAmbulanceAnalysis import qubo_energy_value\n",
    "n_qubits = 3\n",
    "ψ = []\n",
    "for val in range(n_qubits):\n",
    "    ψ.append(-1**val)\n",
    "quadratic = {(2, 1): 2.0, (2, 0): -4.0, (2, 2): -4.0}\n",
    "E = qubo_energy_value(ψ, quadratic)\n",
    "print(quadratic,E)\n",
    "from pyaqc.RCModules.PlatformConversion import test1\n",
    "test1(0)"
   ]
  },
  {
   "cell_type": "code",
   "execution_count": 6,
   "metadata": {},
   "outputs": [
    {
     "output_type": "execute_result",
     "data": {
      "text/plain": [
       "[StructuredSolver(id='DW_2000Q_6'), StructuredSolver(id='Advantage_system1.1')]"
      ]
     },
     "metadata": {},
     "execution_count": 6
    }
   ],
   "source": [
    "from dwave.cloud import Client\n",
    "client = Client.from_config(token='DEV-d58203bae0f10bbf7a7bec839b170624758a9d5d')       #my actual token\n",
    "client.get_solvers()"
   ]
  }
 ]
}