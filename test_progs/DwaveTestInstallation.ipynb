{
 "nbformat": 4,
 "nbformat_minor": 2,
 "metadata": {
  "language_info": {
   "name": "python",
   "codemirror_mode": {
    "name": "ipython",
    "version": 3
   },
   "version": "3.8.1-final"
  },
  "orig_nbformat": 2,
  "file_extension": ".py",
  "mimetype": "text/x-python",
  "name": "python",
  "npconvert_exporter": "python",
  "pygments_lexer": "ipython3",
  "version": 3,
  "kernelspec": {
   "name": "dwave_env",
   "display_name": "DWAVE_env"
  }
 },
 "cells": [
  {
   "cell_type": "code",
   "execution_count": 1,
   "metadata": {},
   "outputs": [
    {
     "output_type": "stream",
     "name": "stdout",
     "text": [
      "hi win32 This cell works with DWAVE_env but not dwave_lone_env\n",
      "BinaryQuadraticModel({1: 2.0, 2: 1.0, 3: 6.0}, {(1, 2): -4.0, (2, 3): -4.0}, -1.0, Vartype.BINARY)\n",
      "{1: 2.0, 2: 1.0, 3: 6.0}\n",
      "python 3.8.1 numpy 1.19.2\n"
     ]
    }
   ],
   "source": [
    "print('hi',sys.platform, 'This cell works with DWAVE_env but not dwave_lone_env')\n",
    "import dwaveoceansdk\n",
    "import  dimod \n",
    "import numpy as np\n",
    "bqm = dimod.BinaryQuadraticModel({ 'a': 2.0, 'b': 1.0, 'c': 6.0},\n",
    "                                {\n",
    "                                ('b', 'a'): 2.0, ('c', 'a'): -4.0, ('c', 'b'): -4.0},\n",
    "                                -1.0, 'BINARY')\n",
    "bqm = dimod.BinaryQuadraticModel({ 1: 2.0, 2: 1.0, 3: 6.0},\n",
    "                                {\n",
    "                                (2, 1): 2.0, (2, 1): -4.0, (3, 2): -4.0},\n",
    "                                -1.0, 'BINARY')                            \n",
    "print( bqm)   \n",
    "print(bqm.linear    )\n",
    "from platform import python_version\n",
    "\n",
    "print('python', python_version(),'numpy', np.__version__)"
   ]
  },
  {
   "cell_type": "code",
   "execution_count": 2,
   "metadata": {},
   "outputs": [],
   "source": [
    "import neal\n",
    "solver = neal.SimulatedAnnealingSampler()  # fails to load the DLL of SimulatedAnnealing.pyd"
   ]
  },
  {
   "cell_type": "code",
   "execution_count": 3,
   "metadata": {},
   "outputs": [
    {
     "output_type": "stream",
     "name": "stdout",
     "text": [
      "{(2, 1): 2.0, (2, 0): -4.0, (2, 2): -4.0} -6.0\n0  == 0\n"
     ]
    }
   ],
   "source": [
    "from pyaqc.RCModules.TwoAmbulanceAnalysis import qubo_energy_value\n",
    "n_qubits = 3\n",
    "ψ = []\n",
    "for val in range(n_qubits):\n",
    "    ψ.append(-1**val)\n",
    "quadratic = {(2, 1): 2.0, (2, 0): -4.0, (2, 2): -4.0}\n",
    "E = qubo_energy_value(ψ, quadratic)\n",
    "print(quadratic,E)\n",
    "from pyaqc.RCModules.PlatformConversion import test1\n",
    "test1(0)"
   ]
  },
  {
   "cell_type": "code",
   "execution_count": 4,
   "metadata": {},
   "outputs": [
    {
     "output_type": "execute_result",
     "data": {
      "text/plain": [
       "[StructuredSolver(id='DW_2000Q_6'), StructuredSolver(id='Advantage_system1.1')]"
      ]
     },
     "metadata": {},
     "execution_count": 4
    }
   ],
   "source": [
    "from dwave.cloud import Client\n",
    "client = Client.from_config(token='DEV-d58203bae0f10bbf7a7bec839b170624758a9d5d')       #my actual token\n",
    "client.get_solvers()"
   ]
  }
 ]
}