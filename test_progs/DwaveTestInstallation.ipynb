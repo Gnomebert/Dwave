{
 "nbformat": 4,
 "nbformat_minor": 2,
 "metadata": {
  "language_info": {
   "name": "python",
   "codemirror_mode": {
    "name": "ipython",
    "version": 3
   },
   "version": "3.7.9-final"
  },
  "orig_nbformat": 2,
  "file_extension": ".py",
  "mimetype": "text/x-python",
  "name": "python",
  "npconvert_exporter": "python",
  "pygments_lexer": "ipython3",
  "version": 3,
  "kernelspec": {
   "name": "python3",
   "display_name": "Python 3"
  }
 },
 "cells": [
  {
   "cell_type": "code",
   "execution_count": 1,
   "metadata": {},
   "outputs": [
    {
     "output_type": "stream",
     "name": "stdout",
     "text": [
      "hi win32 This cell works with DWAVE_env but not dwave_lone_env\n",
      "BinaryQuadraticModel({1: 2.0, 2: 1.0, 3: 6.0}, {(1, 2): -4.0, (2, 3): -4.0}, -1.0, 'BINARY')\n",
      "{1: 2.0, 2: 1.0, 3: 6.0}\n",
      "python 3.7.9 numpy 1.19.2\n"
     ]
    }
   ],
   "source": [
    "print('hi',sys.platform, 'This cell works with DWAVE_env but not dwave_lone_env')\n",
    "import dwaveoceansdk\n",
    "import  dimod \n",
    "import numpy as np\n",
    "bqm = dimod.BinaryQuadraticModel({ 'a': 2.0, 'b': 1.0, 'c': 6.0},\n",
    "                                {\n",
    "                                ('b', 'a'): 2.0, ('c', 'a'): -4.0, ('c', 'b'): -4.0},\n",
    "                                -1.0, 'BINARY')\n",
    "bqm = dimod.BinaryQuadraticModel({ 1: 2.0, 2: 1.0, 3: 6.0},\n",
    "                                {\n",
    "                                (2, 1): 2.0, (2, 1): -4.0, (3, 2): -4.0},\n",
    "                                -1.0, 'BINARY')                            \n",
    "print( bqm)   \n",
    "print(bqm.linear    )\n",
    "from platform import python_version\n",
    "\n",
    "print('python', python_version(),'numpy', np.__version__)"
   ]
  },
  {
   "cell_type": "code",
   "execution_count": 2,
   "metadata": {},
   "outputs": [
    {
     "output_type": "stream",
     "name": "stdout",
     "text": [
      "hi from SimulatedAnnealingSampler\n"
     ]
    },
    {
     "output_type": "error",
     "ename": "ImportError",
     "evalue": "DLL load failed: The specified module could not be found.",
     "traceback": [
      "\u001b[1;31m---------------------------------------------------------------------------\u001b[0m",
      "\u001b[1;31mImportError\u001b[0m                               Traceback (most recent call last)",
      "\u001b[1;32m<ipython-input-2-19d2e4f1ac73>\u001b[0m in \u001b[0;36m<module>\u001b[1;34m\u001b[0m\n\u001b[1;32m----> 1\u001b[1;33m \u001b[1;32mimport\u001b[0m \u001b[0mneal\u001b[0m\u001b[1;33m\u001b[0m\u001b[1;33m\u001b[0m\u001b[0m\n\u001b[0m\u001b[0;32m      2\u001b[0m \u001b[0msolver\u001b[0m \u001b[1;33m=\u001b[0m \u001b[0mneal\u001b[0m\u001b[1;33m.\u001b[0m\u001b[0mSimulatedAnnealingSampler\u001b[0m\u001b[1;33m(\u001b[0m\u001b[1;33m)\u001b[0m  \u001b[1;31m# fails to load the DLL of SimulatedAnnealing.pyd\u001b[0m\u001b[1;33m\u001b[0m\u001b[1;33m\u001b[0m\u001b[0m\n",
      "\u001b[1;32m~\\Anaconda3\\envs\\dwave_3.7.9py_1.18.5num_env\\lib\\site-packages\\neal\\__init__.py\u001b[0m in \u001b[0;36m<module>\u001b[1;34m\u001b[0m\n\u001b[0;32m     17\u001b[0m \u001b[1;32mfrom\u001b[0m \u001b[0m__future__\u001b[0m \u001b[1;32mimport\u001b[0m \u001b[0mabsolute_import\u001b[0m\u001b[1;33m\u001b[0m\u001b[1;33m\u001b[0m\u001b[0m\n\u001b[0;32m     18\u001b[0m \u001b[1;33m\u001b[0m\u001b[0m\n\u001b[1;32m---> 19\u001b[1;33m \u001b[1;32mfrom\u001b[0m \u001b[0mneal\u001b[0m\u001b[1;33m.\u001b[0m\u001b[0msampler\u001b[0m \u001b[1;32mimport\u001b[0m \u001b[1;33m*\u001b[0m\u001b[1;33m\u001b[0m\u001b[1;33m\u001b[0m\u001b[0m\n\u001b[0m\u001b[0;32m     20\u001b[0m \u001b[1;32mimport\u001b[0m \u001b[0mneal\u001b[0m\u001b[1;33m.\u001b[0m\u001b[0msampler\u001b[0m\u001b[1;33m\u001b[0m\u001b[1;33m\u001b[0m\u001b[0m\n\u001b[0;32m     21\u001b[0m \u001b[1;33m\u001b[0m\u001b[0m\n",
      "\u001b[1;32m~\\Anaconda3\\envs\\dwave_3.7.9py_1.18.5num_env\\lib\\site-packages\\neal\\sampler.py\u001b[0m in \u001b[0;36m<module>\u001b[1;34m\u001b[0m\n\u001b[0;32m     27\u001b[0m \u001b[1;32mimport\u001b[0m \u001b[0mnumpy\u001b[0m \u001b[1;32mas\u001b[0m \u001b[0mnp\u001b[0m\u001b[1;33m\u001b[0m\u001b[1;33m\u001b[0m\u001b[0m\n\u001b[0;32m     28\u001b[0m \u001b[0mprint\u001b[0m\u001b[1;33m(\u001b[0m\u001b[1;34m'hi from SimulatedAnnealingSampler'\u001b[0m\u001b[1;33m)\u001b[0m\u001b[1;33m\u001b[0m\u001b[1;33m\u001b[0m\u001b[0m\n\u001b[1;32m---> 29\u001b[1;33m \u001b[1;32mimport\u001b[0m \u001b[0mneal\u001b[0m\u001b[1;33m.\u001b[0m\u001b[0msimulated_annealing\u001b[0m \u001b[1;32mas\u001b[0m \u001b[0msa\u001b[0m\u001b[1;33m\u001b[0m\u001b[1;33m\u001b[0m\u001b[0m\n\u001b[0m\u001b[0;32m     30\u001b[0m \u001b[1;31m#import neal.simulated_annealing.cp37-win_amd64 as sa\u001b[0m\u001b[1;33m\u001b[0m\u001b[1;33m\u001b[0m\u001b[1;33m\u001b[0m\u001b[0m\n\u001b[0;32m     31\u001b[0m \u001b[1;33m\u001b[0m\u001b[0m\n",
      "\u001b[1;31mImportError\u001b[0m: DLL load failed: The specified module could not be found."
     ]
    }
   ],
   "source": [
    "import neal\n",
    "solver = neal.SimulatedAnnealingSampler()  # fails to load the DLL of SimulatedAnnealing.pyd"
   ]
  },
  {
   "cell_type": "code",
   "execution_count": 3,
   "metadata": {},
   "outputs": [
    {
     "output_type": "stream",
     "name": "stdout",
     "text": [
      "{(2, 1): 2.0, (2, 0): -4.0, (2, 2): -4.0} -6.0\n0  == 0\n"
     ]
    }
   ],
   "source": [
    "from pyaqc.RCModules.TwoAmbulanceAnalysis import qubo_energy_value\n",
    "n_qubits = 3\n",
    "ψ = []\n",
    "for val in range(n_qubits):\n",
    "    ψ.append(-1**val)\n",
    "quadratic = {(2, 1): 2.0, (2, 0): -4.0, (2, 2): -4.0}\n",
    "E = qubo_energy_value(ψ, quadratic)\n",
    "print(quadratic,E)\n",
    "from pyaqc.RCModules.PlatformConversion import test1\n",
    "test1(0)"
   ]
  },
  {
   "cell_type": "code",
   "execution_count": 4,
   "metadata": {},
   "outputs": [
    {
     "output_type": "execute_result",
     "data": {
      "text/plain": [
       "[StructuredSolver(id='DW_2000Q_6'), StructuredSolver(id='Advantage_system1.1')]"
      ]
     },
     "metadata": {},
     "execution_count": 4
    }
   ],
   "source": [
    "from dwave.cloud import Client\n",
    "client = Client.from_config(token='DEV-d58203bae0f10bbf7a7bec839b170624758a9d5d')       #my actual token\n",
    "client.get_solvers()"
   ]
  }
 ]
}