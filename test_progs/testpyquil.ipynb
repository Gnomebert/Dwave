{
 "cells": [
  {
   "cell_type": "code",
   "execution_count": 1,
   "metadata": {
    "tags": []
   },
   "outputs": [
    {
     "output_type": "stream",
     "name": "stdout",
     "text": [
      "1.19.2\n",
      "X 0\n",
      "X 1\n",
      "\n"
     ]
    }
   ],
   "source": [
    "# testpyquil.ipynb\n",
    "import numpy as np#from qiskit import *\n",
    "print(np.__version__)\n",
    "\n",
    "from pyquil import *\n",
    "#from pyquil import Program\n",
    "# works with some environments: Rigetti_env, rigoct1_env\n",
    "# but not base \n",
    "from pyquil.gates import X,Z,H,CNOT\n",
    "p = Program(X(0),X(1))#,X(2))\n",
    "print(p)"
   ]
  },
  {
   "cell_type": "code",
   "execution_count": 2,
   "metadata": {
    "tags": []
   },
   "outputs": [
    {
     "output_type": "stream",
     "name": "stdout",
     "text": [
      " States with non-zero probability, |qn...q0>\n000111001001 0.01\n000111001010 0.01\n000111001100 0.01\n000111010001 0.01\n000111010010 0.01\n000111010100 0.01\n000111100001 0.01\n000111100010 0.01\n000111100100 0.01\n001011001001 0.01\n001011001010 0.01\n001011001100 0.01\n001011010001 0.01\n001011010010 0.01\n001011010100 0.01\n001011100001 0.01\n001011100010 0.01\n001011100100 0.01\n001101001001 0.01\n001101001010 0.01\n001101001100 0.01\n001101010001 0.01\n001101010010 0.01\n001101010100 0.01\n001101100001 0.01\n001101100010 0.01\n001101100100 0.01\n001110001001 0.01\n001110001010 0.01\n001110001100 0.01\n001110010001 0.01\n001110010010 0.01\n001110010100 0.01\n001110100001 0.01\n001110100010 0.01\n001110100100 0.01\n010011001001 0.01\n010011001010 0.01\n010011001100 0.01\n010011010001 0.01\n010011010010 0.01\n010011010100 0.01\n010011100001 0.01\n010011100010 0.01\n010011100100 0.01\n010101001001 0.01\n010101001010 0.01\n010101001100 0.01\n010101010001 0.01\n010101010010 0.01\n010101010100 0.01\n010101100001 0.01\n010101100010 0.01\n010101100100 0.01\n010110001001 0.01\n010110001010 0.01\n010110001100 0.01\n010110010001 0.01\n010110010010 0.01\n010110010100 0.01\n010110100001 0.01\n010110100010 0.01\n010110100100 0.01\n011001001001 0.01\n011001001010 0.01\n011001001100 0.01\n011001010001 0.01\n011001010010 0.01\n011001010100 0.01\n011001100001 0.01\n011001100010 0.01\n011001100100 0.01\n011010001001 0.01\n011010001010 0.01\n011010001100 0.01\n011010010001 0.01\n011010010010 0.01\n011010010100 0.01\n011010100001 0.01\n011010100010 0.01\n011010100100 0.01\n011100001001 0.01\n011100001010 0.01\n011100001100 0.01\n011100010001 0.01\n011100010010 0.01\n011100010100 0.01\n011100100001 0.01\n011100100010 0.01\n011100100100 0.01\n100011001001 0.01\n100011001010 0.01\n100011001100 0.01\n100011010001 0.01\n100011010010 0.01\n100011010100 0.01\n100011100001 0.01\n100011100010 0.01\n100011100100 0.01\n100101001001 0.01\n100101001010 0.01\n100101001100 0.01\n100101010001 0.01\n100101010010 0.01\n100101010100 0.01\n100101100001 0.01\n100101100010 0.01\n100101100100 0.01\n100110001001 0.01\n100110001010 0.01\n100110001100 0.01\n100110010001 0.01\n100110010010 0.01\n100110010100 0.01\n100110100001 0.01\n100110100010 0.01\n100110100100 0.01\n101001001001 0.01\n101001001010 0.01\n101001001100 0.01\n101001010001 0.01\n101001010010 0.01\n101001010100 0.01\n101001100001 0.01\n101001100010 0.01\n101001100100 0.01\n101010001001 0.01\n101010001010 0.01\n101010001100 0.01\n101010010001 0.01\n101010010010 0.01\n101010010100 0.01\n101010100001 0.01\n101010100010 0.01\n101010100100 0.01\n101100001001 0.01\n101100001010 0.01\n101100001100 0.01\n101100010001 0.01\n101100010010 0.01\n101100010100 0.01\n101100100001 0.01\n101100100010 0.01\n101100100100 0.01\n110001001001 0.01\n110001001010 0.01\n110001001100 0.01\n110001010001 0.01\n110001010010 0.01\n110001010100 0.01\n110001100001 0.01\n110001100010 0.01\n110001100100 0.01\n110010001001 0.01\n110010001010 0.01\n110010001100 0.01\n110010010001 0.01\n110010010010 0.01\n110010010100 0.01\n110010100001 0.01\n110010100010 0.01\n110010100100 0.01\n110100001001 0.01\n110100001010 0.01\n110100001100 0.01\n110100010001 0.01\n110100010010 0.01\n110100010100 0.01\n110100100001 0.01\n110100100010 0.01\n110100100100 0.01\n111000001001 0.01\n111000001010 0.01\n111000001100 0.01\n111000010001 0.01\n111000010010 0.01\n111000010100 0.01\n111000100001 0.01\n111000100010 0.01\n111000100100 0.01\n"
     ]
    }
   ],
   "source": [
    "from pyaqc.RCModules.aqc_rigetti import  Dicke_state, Dicke_state_local\n",
    "from pyquil import *\n",
    "from pyquil.gates import *\n",
    "from pyquil.api import WavefunctionSimulator\n",
    "\n",
    "n_qubits =12\n",
    "prog = Program()\n",
    "for num in range(n_qubits):\n",
    "    prog += I(num)\n",
    "\n",
    "if 1:\n",
    "    # Make qubits 0 to 2 in a HW=1 state\n",
    "    qudit_start = 0\n",
    "    qudit_end=2\n",
    "    HW=1\n",
    "    init_prog = Dicke_state_local(prog,qudit_start, qudit_end, HW)\n",
    "    # Make qubits 3 to 5 in a HW=1 state\n",
    "    \n",
    "    qudit_start = 3\n",
    "    qudit_end=5\n",
    "    HW=1\n",
    "    init_prog = Dicke_state_local(init_prog, qudit_start, qudit_end, HW)\n",
    "\n",
    "    # Make qubits 6 to 11 in a HW=3 state\n",
    "    qudit_start = 6\n",
    "    qudit_end=11\n",
    "    HW = 3\n",
    "    init_prog = Dicke_state_local(init_prog, qudit_start, qudit_end, HW)\n",
    "\n",
    "\n",
    "\n",
    "wfn = WavefunctionSimulator().wavefunction(init_prog)\n",
    "print(' States with non-zero probability, |qn...q0>')\n",
    "for state, prob in wfn.get_outcome_probs().items():\n",
    "    if(prob>0):\n",
    "        print(state,  '%3.2f'%prob)\n",
    "#print(wfn.get_outcome_probs() )\n",
    "\n",
    "#print(init_prog)\n",
    "\n",
    "\n",
    "#Test senarios\n",
    "# test Dicke_state_local(prog, 0, 2, HW) output is the same as Dicke_state(3, HW)\n",
    "if 0:\n",
    "    qudit_start = 0\n",
    "    qudit_end=2\n",
    "    HW=1\n",
    "    init_prog = Dicke_state(3, HW)\n",
    "    wfn = WavefunctionSimulator().wavefunction(init_prog)\n",
    "    print(wfn.get_outcome_probs() )\n",
    "    prog = Dicke_state_local(prog,qudit_start, qudit_end, HW)\n",
    "    wfn = WavefunctionSimulator().wavefunction(prog)\n",
    "    print(wfn.get_outcome_probs() )\n",
    "\n",
    "if 0:   #test if  qudit_end is  not a qubit number in 'prog'\n",
    "    prog = Program(I(0),I(3))\n",
    "    qudit_start = 0\n",
    "    qudit_end=4\n",
    "    HW=3\n",
    "    init_prog = Dicke_state_local(prog,qudit_start, qudit_end, HW)\n",
    "prog = Program(I(1),I(4))\n",
    "qudit_start = 0\n",
    "qudit_end=4\n",
    "HW=3\n",
    "if 0:      #test if  qudit_start is  not a qubit number in 'prog'\n",
    "    init_prog = Dicke_state_local(prog,qudit_start, qudit_end, HW)"
   ]
  }
 ],
 "metadata": {
  "language_info": {
   "codemirror_mode": {
    "name": "ipython",
    "version": 3
   },
   "file_extension": ".py",
   "mimetype": "text/x-python",
   "name": "python",
   "nbconvert_exporter": "python",
   "pygments_lexer": "ipython3",
   "version": "3.7.9-final"
  },
  "orig_nbformat": 2,
  "kernelspec": {
   "name": "python3",
   "display_name": "Python 3.7.9 64-bit ('dwave_3.7.9py_1.18.5num_env': conda)",
   "metadata": {
    "interpreter": {
     "hash": "de54d4aae8675ae7c08497dfbd8717753cd8991ceccf776a456d636719f45e23"
    }
   }
  }
 },
 "nbformat": 4,
 "nbformat_minor": 2
}