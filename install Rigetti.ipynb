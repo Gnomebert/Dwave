{
 "metadata": {
  "language_info": {
   "codemirror_mode": {
    "name": "ipython",
    "version": 3
   },
   "file_extension": ".py",
   "mimetype": "text/x-python",
   "name": "python",
   "nbconvert_exporter": "python",
   "pygments_lexer": "ipython3",
   "version": 3
  },
  "orig_nbformat": 2
 },
 "nbformat": 4,
 "nbformat_minor": 2,
 "cells": [
  {
   "cell_type": "code",
   "execution_count": null,
   "metadata": {},
   "outputs": [],
   "source": [
    "1) Set up a new environment in Ananconda - conda create -n Rigetti_env python=3\n",
    "(use python 3.8.0 to allow python files to be run in VSC and call Rigetti modules)\n",
    "\n",
    "2) Download Forest SDK from Rigetti website\n",
    "\n",
    "3) Ensure MS C++ immutables module is installed - can be achieved by installing Visual Studio Community - takes ~ 30 mins to do - but this may not be needed or possibly other ways around\n",
    "\n",
    "4) Install ipykernel and matplotlib from Ananconda Navigator into the Rigetti_env environment (OR $ conda install matplotlib)\n",
    "\n",
    "5) From Anaconda prompt, activate Rigetti_env (will not work in powershell, only ordinary command prompt)\n",
    "\n",
    "6) From Anaconda prompt (with Visual Studio Code closed) run: pip install pyquil\n",
    "\n",
    "7) and pip install quantum-grove\n",
    "\n",
    "7a) RESTART VSC to complete installs\n",
    "\n",
    "8) From ordinary command prompt, run\n",
    "\n",
    "vqm -S\n",
    "\n",
    "9) From a second separate command prompt, run\n",
    "\n",
    "quilc -S\n",
    "\n",
    "run test file HelloWorld.ipynb to test successful installation\n",
    "\n",
    "NOTE steps 8) and 9) need to be run every time a Rigetti program is used/run!!\n",
    "\n",
    "10) pip install noisyopt from noisyopt import minimizeSPSA"
   ]
  },
  {
   "cell_type": "code",
   "execution_count": null,
   "metadata": {},
   "outputs": [],
   "source": [
    "pip install dimod               Successfully installed dimod-0.9.12\n",
    "pip install dwave-hybrid\n",
    "pip install dwave-ocean-sdk"
   ]
  }
 ]
}