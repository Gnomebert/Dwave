{
 "metadata": {
  "language_info": {
   "codemirror_mode": {
    "name": "ipython",
    "version": 3
   },
   "file_extension": ".py",
   "mimetype": "text/x-python",
   "name": "python",
   "nbconvert_exporter": "python",
   "pygments_lexer": "ipython3",
   "version": "3.8.1-final"
  },
  "orig_nbformat": 2,
  "kernelspec": {
   "name": "python38164bitdwaveenvconda3a423b85509f4f67b5129006dc61268c",
   "display_name": "Python 3.8.1 64-bit ('DWAVE_env': conda)"
  }
 },
 "nbformat": 4,
 "nbformat_minor": 2,
 "cells": [
  {
   "cell_type": "code",
   "execution_count": null,
   "metadata": {},
   "outputs": [],
   "source": [
    "1) Set up a new environment in Ananconda - conda create -n Rigetti_env python=3\n",
    "(use python 3.8.0 to allow python files to be run in VSC and call Rigetti modules)\n",
    "\n",
    "2) Download Forest SDK from Rigetti website\n",
    "\n",
    "3) Ensure MS C++ immutables module is installed - can be achieved by installing Visual Studio Community - takes ~ 30 mins to do - but this may not be needed or possibly other ways around\n",
    "\n",
    "4) Install ipykernel and matplotlib from Ananconda Navigator into the Rigetti_env environment (OR $ conda install matplotlib)\n",
    "\n",
    "5) From Anaconda prompt, activate Rigetti_env (will not work in powershell, only ordinary command prompt)\n",
    "\n",
    "6) From Anaconda prompt (with Visual Studio Code closed) run: pip install pyquil\n",
    "\n",
    "7) and pip install quantum-grove\n",
    "\n",
    "7a) RESTART VSC to complete installs\n",
    "\n",
    "8) From ordinary command prompt, run\n",
    "\n",
    "vqm -S\n",
    "\n",
    "9) From a second separate command prompt, run\n",
    "\n",
    "quilc -S\n",
    "\n",
    "run test file HelloWorld.ipynb to test successful installation\n",
    "\n",
    "NOTE steps 8) and 9) need to be run every time a Rigetti program is used/run!!\n",
    "\n",
    "10) pip install noisyopt from noisyopt import minimizeSPSA"
   ]
  },
  {
   "cell_type": "code",
   "execution_count": null,
   "metadata": {},
   "outputs": [],
   "source": [
    "pip install dimod               Successfully installed dimod-0.9.12\n",
    "pip install dwave-hybrid\n",
    "pip install dwave-ocean-sdk\n",
    "\n",
    "Another attempt:\n",
    "pip install dimod               Successfully installed dimod-0.9.12\n",
    "pip install pyqubo\n",
    "dwave_lone_env      installed dimod  (but not dwave-ocean-skd )nov2020 and says it is win32 so not large enough \n",
    "DWAVE_env installed 2019 and works perhaps not with roof duality function"
   ]
  },
  {
   "cell_type": "code",
   "execution_count": null,
   "metadata": {},
   "outputs": [],
   "source": [
    "py 3.7.7, numpy1.18.5 and new env , which was the successful choice?\n",
    "\n",
    "conda create -n dwave_lone1_env python=3.7.7\n",
    "pip install numpy==1.18.5\n",
    "pip install dwave-ocean-sdk && dwave config create  \n",
    "    collected and installed dwave-greedy without erro\n",
    "\n",
    "    Profile (create new or choose from: MyDwave, create new, mydwave): create new\n",
    "    Configuration saved.\n",
    "conda install ipykernel             #still cant select dwave_lone1_env as the jupyter server\n",
    "#SUCCESSFUL installattion.\n",
    "    #was this due to earlier versions or a brand new created environment, the previous dwave_lone_env was not fully removed by conda remove --name dwave_lone_env --all"
   ]
  },
  {
   "cell_type": "code",
   "execution_count": null,
   "metadata": {},
   "outputs": [],
   "source": [
    "#summaryy a non annaconda virtual environment was not part of the solution\n",
    "conda remove --name dwave_lone_env --all\n",
    "conda create -n dwave_lone_env python=3\n",
    "python --version\n",
    "pip install virtualenv      (1) in base env\n",
    "pip install virtualenv      (1) in base dwave_lone_env\n",
    "\n",
    "python -m venv ocean\n",
    "ocean\\scripts\\activate      #seemed to create yet another environment within an environment: (ocean) (dwave_lone_env) C:\\Users\\Robert>\n",
    "\n",
    "pip install dwave-ocean-sdk\n",
    "\n",
    "creates same error as below."
   ]
  },
  {
   "cell_type": "code",
   "execution_count": null,
   "metadata": {},
   "outputs": [],
   "source": [
    "conda remove --name dwave_lone_env --all\n",
    "\n",
    "conda create -n dwave_lone_env python=3.8.1\n",
    "pip install dwave-ocean-sdk && dwave config create      #numpy-1.19.4\n",
    "#same errors \n",
    "try diff \n",
    "pip install numpy=1.18.5\n",
    "\n",
    "CHANGE;\n",
    "    now reponds to :\n",
    "dwave setup , a bit , but AdjArrayBQM 'The specified module could not be found.'"
   ]
  },
  {
   "cell_type": "code",
   "execution_count": null,
   "metadata": {},
   "outputs": [],
   "source": [
    "(1)(dwave_lone_env) C:\\Users\\Robert>pip install dwave-ocean-sdk\n",
    "Collecting dwave-ocean-sdk\n",
    "  Using cached dwave_ocean_sdk-3.1.1-py3-none-any.whl (6.9 kB)\n",
    "Collecting dwave-networkx==0.8.8\n",
    "  Using cached dwave_networkx-0.8.8-py2.py3-none-any.whl (81 kB)\n",
    "Collecting dimod==0.9.10\n",
    "  Using cached dimod-0.9.10.tar.gz (1.3 MB)\n",
    "Collecting penaltymodel-cache==0.4.1\n",
    "  Using cached penaltymodel_cache-0.4.1-py3-none-any.whl (11 kB)\n",
    "Collecting dwave-system==1.2.1\n",
    "  Using cached dwave_system-1.2.1-py3-none-any.whl (98 kB)\n",
    "Collecting dwave-hybrid==0.6.0\n",
    "  Using cached dwave_hybrid-0.6.0-py3-none-any.whl (93 kB)\n",
    "Collecting dwave-inspector==0.2.4\n",
    "  Using cached dwave_inspector-0.2.4-py3-none-any.whl (24 kB)\n",
    "Collecting dwavebinarycsp==0.1.2\n",
    "  Using cached dwavebinarycsp-0.1.2-py3-none-any.whl (35 kB)\n",
    "Collecting penaltymodel==0.16.3\n",
    "  Using cached penaltymodel-0.16.3-py3-none-any.whl (13 kB)\n",
    "Collecting dwave-greedy==0.1.1\n",
    "  Using cached dwave-greedy-0.1.1.tar.gz (13 kB)\n",
    " ** On entry to DGEBAL parameter number  3 had an illegal value\n",
    " ** On entry to DGEHRD  parameter number  2 had an illegal value\n",
    " ** On entry to DORGHR DORGQR parameter number  2 had an illegal value\n",
    " ** On entry to DHSEQR parameter number  4 had an illegal value\n",
    "    ERROR: Command errored out with exit status 1:\n",
    "     command: 'C:\\Users\\Robert\\Anaconda3\\envs\\dwave_lone_env\\python.exe' -c 'import sys, setuptools, tokenize; sys.argv[0] = '\"'\"'C:\\\\Users\\\\Robert\\\\AppData\\\\Local\\\\Temp\\\\pip-install-bx5xsp66\\\\dwave-greedy\\\\setup.py'\"'\"';\n",
    "\n",
    "__file__='\"'\"'C:\\\\Users\\\\Robert\\\\AppData\\\\Local\\\\Temp\\\\pip-install-bx5xsp66\\\\dwave-greedy\\\\setup.py'\"'\"';f=getattr(tokenize, '\"'\"'open'\"'\"', open)(__file__);code=f.read().replace('\"'\"'\\r\\n'\"'\"', '\"'\"'\\n'\"'\"');\n",
    "\n",
    "f.close();\n",
    "exec(compile(code, __file__, '\"'\"'exec'\"'\"'))' egg_info --egg-base 'C:\\Users\\Robert\\AppData\\Local\\Temp\\pip-pip-egg-info-2azs3unt'\n",
    "         cwd: C:\\Users\\Robert\\AppData\\Local\\Temp\\pip-install-bx5xsp66\\dwave-greedy\\\n",
    "    Complete output (42 lines):"
   ]
  },
  {
   "cell_type": "code",
   "execution_count": 1,
   "metadata": {},
   "outputs": [
    {
     "output_type": "error",
     "ename": "SyntaxError",
     "evalue": "invalid syntax (<ipython-input-1-ef88172b34e6>, line 1)",
     "traceback": [
      "\u001b[1;36m  File \u001b[1;32m\"<ipython-input-1-ef88172b34e6>\"\u001b[1;36m, line \u001b[1;32m1\u001b[0m\n\u001b[1;33m    Try one at a time and exclude dwave-greedy\u001b[0m\n\u001b[1;37m        ^\u001b[0m\n\u001b[1;31mSyntaxError\u001b[0m\u001b[1;31m:\u001b[0m invalid syntax\n"
     ]
    }
   ],
   "source": [
    "(2)Try one at a time and exclude dwave-greedy\n",
    "\n",
    "pip install dwave-networkx\n",
    "pip install dimod\n",
    "pip install penaltymodel\n",
    "pip install dwave-cloud-client\n",
    "pip install dwave-hybrid        #FAILED this tried to load dwave-greedy\n",
    "pip install dwave-neal\n",
    "pip install dwave-system\n",
    "pip install dwave-tabu          #inc minorminer\n",
    "pip install pyqubo              #FAILED \n",
    "pip install qbsolv              #FAILED \n",
    "pip install dwave-CLI\n",
    "\n",
    "run dwave\n",
    "results in\n",
    "RuntimeError: The current Numpy installation ('c:\\\\users\\\\robert\\\\anaconda3\\\\envs\\\\dwave_lone_env\\\\lib\\\\site-packages\\\\numpy\\\\__init__.py') fails to pass a sanity check due to a bug in the windows runtime. See this issue for more information: https://tinyurl.com/y3dm3h86"
   ]
  }
 ]
}