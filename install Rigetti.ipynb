{
 "metadata": {
  "language_info": {
   "codemirror_mode": {
    "name": "ipython",
    "version": 3
   },
   "file_extension": ".py",
   "mimetype": "text/x-python",
   "name": "python",
   "nbconvert_exporter": "python",
   "pygments_lexer": "ipython3",
   "version": "3.8.1-final"
  },
  "orig_nbformat": 2,
  "kernelspec": {
   "name": "dwave_env",
   "display_name": "DWAVE_env"
  }
 },
 "nbformat": 4,
 "nbformat_minor": 2,
 "cells": [
  {
   "cell_type": "code",
   "execution_count": null,
   "metadata": {},
   "outputs": [],
   "source": [
    "1) Set up a new environment in Ananconda - conda create -n Rigetti_env python=3\n",
    "(use python 3.8.0 to allow python files to be run in VSC and call Rigetti modules)\n",
    "\n",
    "2) Download Forest SDK from Rigetti website\n",
    "\n",
    "3) Ensure MS C++ immutables module is installed - can be achieved by installing Visual Studio Community - takes ~ 30 mins to do - but this may not be needed or possibly other ways around\n",
    "\n",
    "4) Install ipykernel and matplotlib from Ananconda Navigator into the Rigetti_env environment (OR $ conda install matplotlib)\n",
    "\n",
    "5) From Anaconda prompt, activate Rigetti_env (will not work in powershell, only ordinary command prompt)\n",
    "\n",
    "6) From Anaconda prompt (with Visual Studio Code closed) run: pip install pyquil\n",
    "\n",
    "7) and pip install quantum-grove\n",
    "\n",
    "7a) RESTART VSC to complete installs\n",
    "\n",
    "8) From ordinary command prompt, run\n",
    "\n",
    "vqm -S\n",
    "\n",
    "9) From a second separate command prompt, run\n",
    "\n",
    "quilc -S\n",
    "\n",
    "run test file HelloWorld.ipynb to test successful installation\n",
    "\n",
    "NOTE steps 8) and 9) need to be run every time a Rigetti program is used/run!!\n",
    "\n",
    "10) pip install noisyopt from noisyopt import minimizeSPSA"
   ]
  },
  {
   "cell_type": "code",
   "execution_count": null,
   "metadata": {},
   "outputs": [],
   "source": [
    "#SUCCESSFUL installattion and test_progs\\DwaveTestInstallation.ipynb\n",
    "# dwave_lone1_env\n",
    "# BUT doent call neal.SimulatedAnnealing\n",
    "py 3.7.7, numpy 1.18.5 and new env , 28/11/20\n",
    "\n",
    "conda create -n dwave_lone1_env python=3.7.7  # check with python --version\n",
    "pip install numpy==1.18.5\n",
    "pip install dwave-ocean-sdk && dwave config create  \n",
    "    collected and installed dwave-greedy without erro\n",
    "\n",
    "    Profile (create new or choose from: MyDwave, create new, mydwave): create new\n",
    "    Configuration saved.\n",
    "conda install ipykernel             #still cant select dwave_lone1_env as the jupyter server\n",
    "#SUCCESSFUL installattion.\n",
    "    #was this due to earlier versions or a brand new created environment, the previous dwave_lone_env was not fully removed by conda remove --name dwave_lone_env --all\n",
    "conda install ipykernel\n",
    "conda install matplotlib\n"
   ]
  },
  {
   "cell_type": "code",
   "execution_count": null,
   "metadata": {},
   "outputs": [],
   "source": [
    "dwave_3.7.9py_1.18.5num_env\n",
    "# BUT doent call neal.SimulatedAnnealing\n",
    "#SUCCESSFUL installattion and test_progs\\DwaveTestInstallation.ipynb and test_progs\\testpyquil.ipynb\n",
    "#TWO QUANTUM simulators in the same environment\n",
    "#pyquil installed, \n",
    "conda create -n dwave_3.7.9py_1.18.5num_env python=3.7.9\n",
    "pip install numpy==1.18.5           # done swiftly\n",
    "pip install dwave-ocean-sdk && dwave config create \n",
    "conda install ipykernel\n",
    "#then try\n",
    "pip install pyquil\n",
    "conda install matplotlib\n",
    "pip install quantum-grove           \\cant find module pyquil, try VSC restart\n",
    "    try VSC restart solved problem\n",
    "# SUCCESSFUL test_progs\\testpyquil.ipynb\n",
    "\n",
    "Later numpy version in this environment was converted to 1.19.1 so rolled it back using\n",
    "conda install numpy==1.18.5\n",
    "\n",
    "\n",
    "#FAILS to load neal.simulatedAnnealing\n",
    "dwave setup\n",
    "#FAILS to load neal.simu\n",
    "restart vsc\n",
    "#FAILS to load neal.simu\n",
    "pip install numpy==1.18.5  #FAILS to load\n",
    "conda install numpy==1.18.5  #does load\n",
    "#FAILS to load neal.simu\n",
    "conda install numpy==1.19.1   #does load\n",
    "#FAILS to load neal.simu"
   ]
  },
  {
   "cell_type": "code",
   "execution_count": null,
   "metadata": {},
   "outputs": [],
   "source": [
    "#SUCCESSFUL installattion and test_progs\\DwaveTestInstallation.ipynb\n",
    "# BUT doent call neal.SimulatedAnnealing\n",
    "conda create -n dwave_3.7.7py_1.18.5num_env python=3.7.7\n",
    "pip install numpy==1.18.5           # done swiftly\n",
    "pip install dwave-ocean-sdk && dwave config create \n",
    "conda install ipykernel"
   ]
  },
  {
   "cell_type": "code",
   "execution_count": null,
   "metadata": {},
   "outputs": [],
   "source": [
    "(dwave_3.7.9py_1.18.5num_env) C:\\Users\\Robert>dwave config create\n",
    "Found existing configuration file: C:\\Users\\Robert\\AppData\\Local\\dwavesystem\\dwave\\dwave.conf\n",
    "Configuration file path [C:\\Users\\Robert\\AppData\\Local\\dwavesystem\\dwave\\dwave.conf]:\n",
    "Profile (create new or choose from: MyDwave, create new, mydwave): MyDwave      # previously did 'create new' which did not work\n",
    "API endpoint URL [https://cloud.dwavesys.com/sapi]:\n",
    "Authentication token [DEV-d58203bae0f10bbf7a7bec839b170624758a9d5d]: DEV-f94593d3e9df93c9227b0caeeae3734e793b8feb\n",
    "Default client class [qpu]:\n",
    "Default solver [skip]:\n",
    "Configuration saved."
   ]
  },
  {
   "source": [
    "#### Tested combinations of python and numpy versions\n",
    "\n",
    " |env name:|python | numpy|work y/n|Is Pyquil installable?|and pyaqc?|and neal?\n",
    " |------|------|----------|:-----:|:-----:|\n",
    " |dwave_env|3.8.1 |1.19.2|     y   |  Y                   | y         | y|  'dwave_ocean_sdk-1.6.0.dist-info'\n",
    " |dwave_lone1_env|3.7.7|1.18.5|            y|                y|             y|n|  'dwave_ocean_sdk-3.1.1.dist-info'\n",
    " |dwave_3.7.7py_1.18.5num_env|3.7.7|1.18.5|y|?           |         y| n|\n",
    " |dwave_3.7.9py_1.18.5num_env|3.7.9|1.18.5|y|YES|yes|n|\n",
    " |dwave_3.7.9py_1.19.2num_env|||y|||no neal|\n",
    " |dwave_3.7.9py_1.19.1num_env|||y|||no neal|\n",
    " |dwave_3.8.1py_1.19.1num_env|||n|\n",
    " dwave_3.8.1py_1.19.2num_env|||n|\n",
    " |dwave_3.8.1py_1.18.5num_env|||n|\n",
    " ||3.8.0|1.18.5|n|\n",
    " ||3.9.0|1.18.5|n|\n",
    " ||3.7.7|uptodate|n|\n",
    " ||3.7.9|uptodate|n|"
   ],
   "cell_type": "markdown",
   "metadata": {}
  },
  {
   "cell_type": "code",
   "execution_count": null,
   "metadata": {},
   "outputs": [],
   "source": [
    "# download success BUT test.ipynb  FAILS to run\n",
    "conda create -n dwave_3.8.1py_1.18.5num_env python=3.8.1\n",
    "pip install numpy==1.18.5           # done swiftly\n",
    "pip install dwave-ocean-sdk && dwave config create \n",
    "conda install ipykernel\n",
    "\n",
    "16 from dimod.bqm.adjarraybqm import AdjArrayBQM\n",
    "     17 from dimod.bqm.adjdictbqm import AdjDictBQM\n",
    "     18 from dimod.bqm.adjmapbqm import AdjMapBQM\n",
    "\n",
    "ImportError: DLL load failed while importing adjarraybqm: The specified module could not be found.\n",
    "\n",
    "dwave setup -  same error message "
   ]
  },
  {
   "cell_type": "code",
   "execution_count": null,
   "metadata": {},
   "outputs": [],
   "source": [
    "# download success BUT test.ipynb  FAILS to run\n",
    "conda create -n dwave_py_num_env python=3.8.0\n",
    "pip install numpy==1.18.5           # done swiftly\n",
    "pip install dwave-ocean-sdk && dwave config create \n",
    "conda install ipykernel\n",
    "\n",
    "16 from dimod.bqm.adjarraybqm import AdjArrayBQM\n",
    "     17 from dimod.bqm.adjdictbqm import AdjDictBQM\n",
    "     18 from dimod.bqm.adjmapbqm import AdjMapBQM\n",
    "\n",
    "ImportError: DLL load failed while importing adjarraybqm: The specified module could not be found.\n",
    "\n",
    "conda remove --name dwave_py_num_env --all\n",
    "conda remove --name dwave_3.8.1py_1.18.5num_env --all"
   ]
  },
  {
   "cell_type": "code",
   "execution_count": null,
   "metadata": {},
   "outputs": [],
   "source": [
    "# uptodate python and limit numpy ver #FAILS -  not just numpy version is prob\n",
    "conda create -n dwave_num1.18.5_env \n",
    "pip install numpy==1.18.5\n",
    "conda remove --name dwave_num1.18.5_env --all\n",
    "conda create -n dwave_num1.18.5_env python=3  #version 3.9.0\n",
    "pip install numpy==1.18.5           # took a long time installing this version\n",
    "\n",
    "pip install dwave-ocean-sdk && dwave config create \n",
    "\n",
    "ERROR: Could not find a version that satisfies the requirement ortools<8.0.0,>=6.6.4659 (from penaltymodel-mip==0.2.3; platform_machine == \"x86_64\" or platform_machine == \"amd64\" or platform_machine == \"AMD64\"->dwave-ocean-sdk) (from versions: 8.0.8283)\n",
    "ERROR: No matching distribution found for ortools<8.0.0,>=6.6.4659 (from penaltymodel-mip==0.2.3; platform_machine == \"x86_64\" or platform_machine == \"amd64\" or platform_machine == \"AMD64\"->dwave-ocean-sdk)\n",
    "\n",
    "conda remove --name dwave_num1.18.5_env --all"
   ]
  },
  {
   "cell_type": "code",
   "execution_count": null,
   "metadata": {},
   "outputs": [],
   "source": [
    "conda create -n dwave_3.7.7_env python=3.7.7 #Fails\n",
    "pip install dwave-ocean-sdk && dwave config create \n",
    "\n",
    "RuntimeError: The current Numpy installation ('c:\\\\users\\\\robert\\\\anaconda3\\\\envs\\\\dwave_3.7.7_env\\\\lib\\\\site-packages\\\\numpy\\\\__init__.py') fails to pass a sanity check due to a bug in the windows runtime. See this issue for more information: https://tinyurl.com/y3dm3h86\n",
    "\n",
    "conda remove --name dwave_3.7.7_env --all"
   ]
  },
  {
   "cell_type": "code",
   "execution_count": null,
   "metadata": {},
   "outputs": [],
   "source": [
    "conda create -n dwave_3.7.8_env python=3.7.8 # This package is not available\n",
    "pip install dwave-ocean-sdk && dwave config create "
   ]
  },
  {
   "cell_type": "code",
   "execution_count": null,
   "metadata": {},
   "outputs": [],
   "source": [
    "conda create -n dwave_3.7.9_env python=3.7.9 #FAILS\n",
    "pip install dwave-ocean-sdk && dwave config create  \n",
    "\n",
    "RuntimeError: The current Numpy installation ('c:\\\\users\\\\robert\\\\anaconda3\\\\envs\\\\dwave_3.7.9_env\\\\lib\\\\site-packages\\\\numpy\\\\__init__.py') fails to pass a sanity check due to a bug in the windows runtime. See this issue for more information: https://tinyurl.com/y3dm3h86\n",
    "conda remove --name dwave_3.7.9_env --all"
   ]
  },
  {
   "cell_type": "code",
   "execution_count": null,
   "metadata": {},
   "outputs": [],
   "source": [
    "conda create -n dwave_3.8_env python=3.8.0 #FAILS\n",
    "conda install ipykernel\n",
    "\n",
    "\n",
    "pip install dwave-ocean-sdk && dwave config create  \n",
    "\n",
    "RuntimeError: The current Numpy installation ('c:\\\\users\\\\robert\\\\anaconda3\\\\envs\\\\dwave_3.8_env\\\\lib\\\\site-packages\\\\numpy\\\\__init__.py') fails to pass a sanity check due to a bug in the windows runtime. See this issue for more information: https://tinyurl.com/y3dm3h86\n",
    "\n",
    "conda remove --name dwave_3.8_env --all"
   ]
  },
  {
   "cell_type": "code",
   "execution_count": null,
   "metadata": {},
   "outputs": [],
   "source": [
    "pip install dimod               Successfully installed dimod-0.9.12\n",
    "pip install dwave-hybrid\n",
    "pip install dwave-ocean-sdk\n",
    "\n",
    "Another attempt:\n",
    "pip install dimod               Successfully installed dimod-0.9.12\n",
    "pip install pyqubo\n",
    "dwave_lone_env      installed dimod  (but not dwave-ocean-skd )nov2020 and says it is win32 so not large enough \n",
    "DWAVE_env installed 2019 and works perhaps not with roof duality function"
   ]
  },
  {
   "cell_type": "code",
   "execution_count": null,
   "metadata": {},
   "outputs": [],
   "source": [
    "#summaryy a non annaconda virtual environment was not part of the solution\n",
    "conda remove --name dwave_lone_env --all\n",
    "conda create -n dwave_lone_env python=3\n",
    "python --version\n",
    "pip install virtualenv      (1) in base env\n",
    "pip install virtualenv      (1) in base dwave_lone_env\n",
    "\n",
    "python -m venv ocean\n",
    "ocean\\scripts\\activate      #seemed to create yet another environment within an environment: (ocean) (dwave_lone_env) C:\\Users\\Robert>\n",
    "\n",
    "pip install dwave-ocean-sdk\n",
    "\n",
    "creates same error as below."
   ]
  },
  {
   "cell_type": "code",
   "execution_count": null,
   "metadata": {},
   "outputs": [],
   "source": [
    "conda remove --name dwave_lone_env --all\n",
    "\n",
    "conda create -n dwave_lone_env python=3.8.1\n",
    "pip install dwave-ocean-sdk && dwave config create      #numpy-1.19.4\n",
    "#same errors \n",
    "try diff \n",
    "pip install numpy=1.18.5\n",
    "\n",
    "CHANGE;\n",
    "    now reponds to :\n",
    "dwave setup , a bit , but AdjArrayBQM 'The specified module could not be found.'"
   ]
  },
  {
   "cell_type": "code",
   "execution_count": null,
   "metadata": {},
   "outputs": [],
   "source": [
    "(1)(dwave_lone_env) C:\\Users\\Robert>pip install dwave-ocean-sdk\n",
    "Collecting dwave-ocean-sdk\n",
    "  Using cached dwave_ocean_sdk-3.1.1-py3-none-any.whl (6.9 kB)\n",
    "Collecting dwave-networkx==0.8.8\n",
    "  Using cached dwave_networkx-0.8.8-py2.py3-none-any.whl (81 kB)\n",
    "Collecting dimod==0.9.10\n",
    "  Using cached dimod-0.9.10.tar.gz (1.3 MB)\n",
    "Collecting penaltymodel-cache==0.4.1\n",
    "  Using cached penaltymodel_cache-0.4.1-py3-none-any.whl (11 kB)\n",
    "Collecting dwave-system==1.2.1\n",
    "  Using cached dwave_system-1.2.1-py3-none-any.whl (98 kB)\n",
    "Collecting dwave-hybrid==0.6.0\n",
    "  Using cached dwave_hybrid-0.6.0-py3-none-any.whl (93 kB)\n",
    "Collecting dwave-inspector==0.2.4\n",
    "  Using cached dwave_inspector-0.2.4-py3-none-any.whl (24 kB)\n",
    "Collecting dwavebinarycsp==0.1.2\n",
    "  Using cached dwavebinarycsp-0.1.2-py3-none-any.whl (35 kB)\n",
    "Collecting penaltymodel==0.16.3\n",
    "  Using cached penaltymodel-0.16.3-py3-none-any.whl (13 kB)\n",
    "Collecting dwave-greedy==0.1.1\n",
    "  Using cached dwave-greedy-0.1.1.tar.gz (13 kB)\n",
    " ** On entry to DGEBAL parameter number  3 had an illegal value\n",
    " ** On entry to DGEHRD  parameter number  2 had an illegal value\n",
    " ** On entry to DORGHR DORGQR parameter number  2 had an illegal value\n",
    " ** On entry to DHSEQR parameter number  4 had an illegal value\n",
    "    ERROR: Command errored out with exit status 1:\n",
    "     command: 'C:\\Users\\Robert\\Anaconda3\\envs\\dwave_lone_env\\python.exe' -c 'import sys, setuptools, tokenize; sys.argv[0] = '\"'\"'C:\\\\Users\\\\Robert\\\\AppData\\\\Local\\\\Temp\\\\pip-install-bx5xsp66\\\\dwave-greedy\\\\setup.py'\"'\"';\n",
    "\n",
    "__file__='\"'\"'C:\\\\Users\\\\Robert\\\\AppData\\\\Local\\\\Temp\\\\pip-install-bx5xsp66\\\\dwave-greedy\\\\setup.py'\"'\"';f=getattr(tokenize, '\"'\"'open'\"'\"', open)(__file__);code=f.read().replace('\"'\"'\\r\\n'\"'\"', '\"'\"'\\n'\"'\"');\n",
    "\n",
    "f.close();\n",
    "exec(compile(code, __file__, '\"'\"'exec'\"'\"'))' egg_info --egg-base 'C:\\Users\\Robert\\AppData\\Local\\Temp\\pip-pip-egg-info-2azs3unt'\n",
    "         cwd: C:\\Users\\Robert\\AppData\\Local\\Temp\\pip-install-bx5xsp66\\dwave-greedy\\\n",
    "    Complete output (42 lines):"
   ]
  },
  {
   "cell_type": "code",
   "execution_count": 1,
   "metadata": {},
   "outputs": [
    {
     "output_type": "error",
     "ename": "SyntaxError",
     "evalue": "invalid syntax (<ipython-input-1-ef88172b34e6>, line 1)",
     "traceback": [
      "\u001b[1;36m  File \u001b[1;32m\"<ipython-input-1-ef88172b34e6>\"\u001b[1;36m, line \u001b[1;32m1\u001b[0m\n\u001b[1;33m    Try one at a time and exclude dwave-greedy\u001b[0m\n\u001b[1;37m        ^\u001b[0m\n\u001b[1;31mSyntaxError\u001b[0m\u001b[1;31m:\u001b[0m invalid syntax\n"
     ]
    }
   ],
   "source": [
    "(2)Try one at a time and exclude dwave-greedy\n",
    "\n",
    "pip install dwave-networkx\n",
    "pip install dimod\n",
    "pip install penaltymodel\n",
    "pip install dwave-cloud-client\n",
    "pip install dwave-hybrid        #FAILED this tried to load dwave-greedy\n",
    "pip install dwave-neal\n",
    "pip install dwave-system\n",
    "pip install dwave-tabu          #inc minorminer\n",
    "pip install pyqubo              #FAILED \n",
    "pip install qbsolv              #FAILED \n",
    "pip install dwave-CLI\n",
    "\n",
    "run dwave\n",
    "results in\n",
    "RuntimeError: The current Numpy installation ('c:\\\\users\\\\robert\\\\anaconda3\\\\envs\\\\dwave_lone_env\\\\lib\\\\site-packages\\\\numpy\\\\__init__.py') fails to pass a sanity check due to a bug in the windows runtime. See this issue for more information: https://tinyurl.com/y3dm3h86"
   ]
  }
 ]
}