{
 "metadata": {
  "language_info": {
   "codemirror_mode": {
    "name": "ipython",
    "version": 3
   },
   "file_extension": ".py",
   "mimetype": "text/x-python",
   "name": "python",
   "nbconvert_exporter": "python",
   "pygments_lexer": "ipython3",
   "version": "3.8.1-final"
  },
  "orig_nbformat": 2,
  "kernelspec": {
   "name": "dwave_env",
   "display_name": "DWAVE_env"
  }
 },
 "nbformat": 4,
 "nbformat_minor": 2,
 "cells": [
  {
   "cell_type": "code",
   "execution_count": 4,
   "metadata": {},
   "outputs": [
    {
     "output_type": "stream",
     "name": "stdout",
     "text": [
      "ADJACENCY MATRIX Twoambulances.txt  \n\nQubit  q0   q1   q2   q3   q4   q5   q6   q7   q8   q9  q10  q11  q12  q13  q14  q15 \n\n  q0  -20                  40                       1    1    2  \n\n  q1       -20                  40             1         2    1  \n\n  q2            -20                  40        1    2         1  \n\n  q3                 -20                  40   2    1    1  \n\n  q4                      -20                                           1    1    2  \n\n  q5                           -20                                 1         2    1  \n\n  q6                                -20                            1    2         1  \n\n  q7                                     -20                       2    1    1  \n\n  q8                                          -20   40   40   40 \n\n  q9                                               -20   40   40 \n\n q10                                                    -20   40 \n\n q11                                                         -20 \n\n q12                                                              -20   40   40   40 \n\n q13                                                                   -20   40   40 \n\n q14                                                                        -20   40 \n\n q15                                                                             -20 \n\n"
     ]
    }
   ],
   "source": [
    "#TWO AMBULANCE DISTANCE MINIMISATION - \n",
    "\n",
    "import numpy as np \n",
    "#RC utility functions    \n",
    "from pyaqc.RCModules.PlatformConversion import print_QUBOdetails, CreateTwoAmbulanceAdjacencyV1,CreateTwoAmbulanceAdjacencyV2\n",
    "#################################### Create Adjacency defined as a qubo ####################################\n",
    "n_destinations = 4  \n",
    "gridWidth = 2# n_destinations\n",
    "Width  = gridWidth\n",
    "Height = n_destinations//gridWidth\n",
    "\n",
    "result = CreateTwoAmbulanceAdjacencyV2(gridWidth,n_destinations, Adddistance = 1,use_XYMixer_constraints=0)\n",
    "\n",
    "Adjacency = result['qubo']\n",
    "AdjacencyHybrid = result['quboHybrid']\n",
    "n_qubits = result['n_qubits']\n",
    "ConstraintMultiplier = result['ConstraintMultiplier']\n",
    "max_distance = result['max_distance']\n",
    "\n",
    "if 1:\n",
    "    filename = 'Twoambulances.txt'\n",
    "    print_QUBOdetails(Adjacency,n_qubits,filename)"
   ]
  },
  {
   "cell_type": "code",
   "execution_count": 57,
   "metadata": {},
   "outputs": [
    {
     "output_type": "stream",
     "name": "stdout",
     "text": [
      "   0  1  2  3  4  5  6  7  8  9 10 11 12 13 14 15 energy num_oc.\n0  0  1  1  1  1  0  0  0  0  0  0  1  1  0  0  0 -118.0       1\n1  0  0  1  1  1  1  0  0  0  0  0  1  0  1  0  0 -118.0       1\n2  1  1  0  0  0  0  1  1  1  0  0  0  0  0  1  0 -118.0       1\n['BINARY', 3 rows, 3 samples, 16 variables] \nOrder q0...qn, samples ordered by energy\n"
     ]
    }
   ],
   "source": [
    "import dimod \n",
    "Myqubo = dimod.BinaryQuadraticModel.from_qubo(Adjacency)\n",
    "samplerExact = dimod.ExactSolver()\n",
    "response = samplerExact.sample(Myqubo) \n",
    "\n",
    "print(response.truncate(3,sorted_by='energy',), '\\nOrder q0...qn, samples ordered by energy')"
   ]
  },
  {
   "cell_type": "code",
   "execution_count": 87,
   "metadata": {},
   "outputs": [
    {
     "output_type": "stream",
     "name": "stdout",
     "text": [
      "   0  1  2  3  4  5  6  7  8  9 10 11 12 13 14 15 energy num_oc.\n2  1  1  0  0  0  0  0  0  0  0  0  0  0  0  0  0  -40.0       1\n1  1  0  0  0  0  0  0  0  0  0  0  0  0  0  0  0  -20.0       1\n0  0  0  0  0  0  0  0  0  0  0  0  0  0  0  0  0    0.0       1\n['BINARY', 3 rows, 3 samples, 16 variables] \nOrder of each sample q0...qn. First  3  UNORDERED samples, then ranked by energy\n"
     ]
    }
   ],
   "source": [
    "response1 = samplerExact.sample(Myqubo) \n",
    "n_sub_samples = 3\n",
    "print(response1.truncate(n_sub_samples,sorted_by=None), '\\nOrder of each sample q0...qn. First ',n_sub_samples, ' UNORDERED samples, then ranked by energy')"
   ]
  },
  {
   "cell_type": "code",
   "execution_count": 66,
   "metadata": {},
   "outputs": [
    {
     "output_type": "stream",
     "name": "stdout",
     "text": [
      "[0, 1, 1, 1, 1, 0, 0, 0, 0, 0, 0, 1, 1, 0, 0, 0]  = Lowest energy sample as a list...\n{0: 0, 1: 1, 2: 1, 3: 1, 4: 1, 5: 0, 6: 0, 7: 0, 8: 0, 9: 0, 10: 0, 11: 1, 12: 1, 13: 0, 14: 0, 15: 0}  ... or a dict\n[1, 1, 0, 0, 0, 0, 1, 1, 0, 1, 0, 0, 0, 0, 1, 0]    4 th sample as a list\n"
     ]
    }
   ],
   "source": [
    "print(list( response.first[0].values()), ' = Lowest energy sample as a list...')\n",
    "print(      response.first[0],         ' ... or a dict')\n",
    "n=4\n",
    "print(list( response.samples()[n].values() ) ,'  ',n,'th sample as a list')"
   ]
  },
  {
   "cell_type": "code",
   "execution_count": 67,
   "metadata": {},
   "outputs": [
    {
     "output_type": "stream",
     "name": "stdout",
     "text": [
      "-118.0 Lowest energy of all data in the response\n[0, 1, 1, 1, 1, 0, 0, 0, 0, 0, 0, 1, 1, 0, 0, 0]  = Lowest energy sample as a list...\n"
     ]
    }
   ],
   "source": [
    "print(response.first[1], 'Lowest energy of all data in the response')\n",
    "print(list( response.first[0].values()), ' = Lowest energy sample as a list...')"
   ]
  },
  {
   "cell_type": "code",
   "execution_count": 65,
   "metadata": {},
   "outputs": [
    {
     "output_type": "stream",
     "name": "stdout",
     "text": [
      "[  0. -20. -40. ... -60. -40. -20.] List of  energies UNORDERED\n"
     ]
    }
   ],
   "source": [
    "print(response.data_vectors['energy'], 'List of  energies UNORDERED')"
   ]
  },
  {
   "cell_type": "code",
   "execution_count": 85,
   "metadata": {
    "tags": []
   },
   "outputs": [
    {
     "output_type": "stream",
     "name": "stdout",
     "text": [
      "UNPACK each sample from the sampleSet, in ORDER of (energy, or of evaluations)  into\n Sample \t\t\t\t\t\tenergy \tnum_occurrences evaluation order\n[0, 0, 0, 0, 0, 0, 0, 0, 0, 0, 0, 0, 0, 0, 0, 0] \t 0.0 \t 1 \t 0 \t= n\n[1, 0, 0, 0, 0, 0, 0, 0, 0, 0, 0, 0, 0, 0, 0, 0] \t -20.0 \t 1 \t 1 \t= n\n[1, 1, 0, 0, 0, 0, 0, 0, 0, 0, 0, 0, 0, 0, 0, 0] \t -40.0 \t 1 \t 2 \t= n\n[0, 1, 0, 0, 0, 0, 0, 0, 0, 0, 0, 0, 0, 0, 0, 0] \t -20.0 \t 1 \t 3 \t= n\n[0, 1, 1, 0, 0, 0, 0, 0, 0, 0, 0, 0, 0, 0, 0, 0] \t -40.0 \t 1 \t 4 \t= n\n[1, 1, 1, 0, 0, 0, 0, 0, 0, 0, 0, 0, 0, 0, 0, 0] \t -60.0 \t 1 \t 5 \t= n\n[1, 0, 1, 0, 0, 0, 0, 0, 0, 0, 0, 0, 0, 0, 0, 0] \t -40.0 \t 1 \t 6 \t= n\n[0, 0, 1, 0, 0, 0, 0, 0, 0, 0, 0, 0, 0, 0, 0, 0] \t -20.0 \t 1 \t 7 \t= n\n[0, 0, 1, 1, 0, 0, 0, 0, 0, 0, 0, 0, 0, 0, 0, 0] \t -40.0 \t 1 \t 8 \t= n\n[1, 0, 1, 1, 0, 0, 0, 0, 0, 0, 0, 0, 0, 0, 0, 0] \t -60.0 \t 1 \t 9 \t= n\n"
     ]
    }
   ],
   "source": [
    "print('UNPACK each sample from the sampleSet, in ORDER of (energy, or of evaluations)  into\\n', 'Sample', '\\t\\t\\t\\t\\t\\tenergy','\\tnum_occurrences', 'evaluation order')\n",
    "for n,datum in enumerate( response.data(fields=['sample', 'energy','num_occurrences'], sorted_by=None)):     #'energy'\n",
    "    if n<10:\n",
    "        print(list(datum.sample.values() ), '\\t', datum.energy ,'\\t', datum.num_occurrences,'\\t',n,'\\t= n')"
   ]
  }
 ]
}